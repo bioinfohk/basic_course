{
 "cells": [
  {
   "cell_type": "markdown",
   "metadata": {},
   "source": [
    "# Jak analyzovat data pomocí pythonu"
   ]
  },
  {
   "cell_type": "markdown",
   "metadata": {},
   "source": [
    "Základem všeho struktura jménem slovník. Když máme několik druhů, je dobré si ukládat data bokem do slovníku, aby se s snimi dalo různě pracovat. Pokud bychom tedy dělali analýzu délky nohou různých druhů, mohla by datová struktura vypadat asi takto:"
   ]
  },
  {
   "cell_type": "code",
   "execution_count": null,
   "metadata": {},
   "outputs": [],
   "source": [
    "species = {} # vytvorime slovnik\n",
    "species['canis_lupus'] = {} # vytvorime slovnik pro urcity druh\n",
    "species['canis_lupus']['predni_prava'] = 20\n",
    "species['canis_lupus']['zadni_prava'] = 30\n",
    "species['canis_lupus']['predni_leva'] = 20\n",
    "species['canis_lupus']['zadni_leva'] = 30\n",
    "\n",
    "species['felix_normalis'] = {} # vytvorime slovnik pro urcity druh\n",
    "species['felix_normalis']['predni_prava'] = 10\n",
    "species['felix_normalis']['zadni_prava'] = 20\n",
    "species['felix_normalis']['predni_leva'] = 10\n",
    "species['felix_normalis']['zadni_leva'] = 20\n",
    "\n",
    "species['bubo_bubo'] = {} # vytvorime slovnik pro urcity druh\n",
    "species['bubo_bubo']['predni_prava'] = 100\n",
    "species['bubo_bubo']['zadni_prava'] = 5\n",
    "species['bubo_bubo']['predni_leva'] = 100\n",
    "species['bubo_bubo']['zadni_leva'] = 5"
   ]
  },
  {
   "cell_type": "markdown",
   "metadata": {},
   "source": [
    "Používám zde slovník ve slovníku, což může znít trochu kostrbatě, ale má to několik výhod. Jako první bych označil to, že si mohu pomocí pár příkazů uložit data do tzv. JSONu. To velmi usnadňuje práci s daty:"
   ]
  },
  {
   "cell_type": "code",
   "execution_count": null,
   "metadata": {},
   "outputs": [],
   "source": [
    "import json\n",
    "\n",
    "file_to_save = 'kam_se_ma_ulozit.json'\n",
    "\n",
    "with open(file_to_save, 'w') as fp:\n",
    "    json.dump(species, fp)"
   ]
  },
  {
   "cell_type": "markdown",
   "metadata": {},
   "source": [
    "Načtení ja také otázka chvilky:"
   ]
  },
  {
   "cell_type": "code",
   "execution_count": null,
   "metadata": {},
   "outputs": [],
   "source": [
    "import json\n",
    "\n",
    "file_to_load = 'kde_je_ulozen.json'\n",
    "\n",
    "with open(file_to_load) as file:\n",
    "    data = json.load(file)"
   ]
  },
  {
   "cell_type": "markdown",
   "metadata": {},
   "source": [
    "Když už jsou takhle data připravená, tak lze z nich zjistit pár dalších věcí. Třeba jaké druhy máme ve slovníku? Vzhledem k tomu, že názvy druhů používame jako klíče, můžeme se zeptat slovníku, jaké má klíče a ..."
   ]
  },
  {
   "cell_type": "code",
   "execution_count": 19,
   "metadata": {},
   "outputs": [
    {
     "data": {
      "text/plain": [
       "dict_keys(['canis_lupus', 'felix_normalis', 'bubo_bubo'])"
      ]
     },
     "execution_count": 19,
     "metadata": {},
     "output_type": "execute_result"
    }
   ],
   "source": [
    "species.keys()"
   ]
  },
  {
   "cell_type": "markdown",
   "metadata": {},
   "source": [
    "víme, jaké druhy můžeme analyzovat."
   ]
  },
  {
   "cell_type": "markdown",
   "metadata": {},
   "source": [
    "Můžeme dělat také takové běžné operace jako průměr nebo součet všech adekvátních délek. Tam je jen důležité si dávat pozor, aby jsme nemíchali \"jablka s hruškama\""
   ]
  },
  {
   "cell_type": "code",
   "execution_count": 20,
   "metadata": {},
   "outputs": [
    {
     "name": "stdout",
     "output_type": "stream",
     "text": [
      "prumerna delka prednich pravych nohou je: 43.333333333333336\n"
     ]
    }
   ],
   "source": [
    "import statistics # konecne delame statistiku!\n",
    "\n",
    "co_nas_zajima = 'predni_prava'\n",
    "\n",
    "values_of_interest = [] # hodonoty si budeme ukladat bokem do pole\n",
    "\n",
    "for species_key in species.keys():\n",
    "    species_data = species[species_key]\n",
    "    values_of_interest.append(species_data[co_nas_zajima])\n",
    "        \n",
    "print('prumerna delka prednich pravych nohou je: ' + str(statistics.mean(values_of_interest))) # fakt je nutne kvuli jedne funkci importovat cely modul?!"
   ]
  },
  {
   "cell_type": "markdown",
   "metadata": {},
   "source": [
    "Můžeme taky taková data zobrazit v grafu. K tomu je nejlepší knihovna Matplotlib. Má velké množství grafů a pokud jste si zvykli na definci grafů z Matlabu, budete jako doma."
   ]
  },
  {
   "cell_type": "code",
   "execution_count": 21,
   "metadata": {},
   "outputs": [
    {
     "data": {
      "text/plain": [
       "[<matplotlib.lines.Line2D at 0x7fa846b26160>]"
      ]
     },
     "execution_count": 21,
     "metadata": {},
     "output_type": "execute_result"
    },
    {
     "data": {
      "image/png": "[encoded data removed]",
      "text/plain": [
       "<Figure size 432x288 with 1 Axes>"
      ]
     },
     "metadata": {
      "needs_background": "light"
     },
     "output_type": "display_data"
    }
   ],
   "source": [
    "%matplotlib inline \n",
    "# chceme zobrazit grafy primo v jupyteru\n",
    "import matplotlib.pyplot as plt # import knihovny\n",
    "\n",
    "plt.plot(values_of_interest) # zobrazi line chart, idealni na \"vhled\" do dat... "
   ]
  },
  {
   "cell_type": "markdown",
   "metadata": {},
   "source": [
    "Pokud chceme zobrazit více dat v jednom grafu, není to překážkou, jen to je trochu složitější. V podstatě si bokem uložíme seznam druhů a k nim přiřadíme indexy. Následně si v jednom cyklu vytáhneme data ze slovníku tak, aby jsme je mohli postupně dávat do grafů:"
   ]
  },
  {
   "cell_type": "code",
   "execution_count": 32,
   "metadata": {},
   "outputs": [
    {
     "data": {
      "image/png": "[encoded data removed]",
      "text/plain": [
       "<Figure size 720x720 with 1 Axes>"
      ]
     },
     "metadata": {
      "needs_background": "light"
     },
     "output_type": "display_data"
    }
   ],
   "source": [
    "figure = plt.figure(figsize = (10, 10)) \n",
    "ax1 = figure.add_subplot(111)\n",
    "\n",
    "lengths_of_interest = ['predni_prava', 'zadni_prava', 'predni_leva', 'zadni_leva']\n",
    "lengths = {}\n",
    "\n",
    "for length_key in lengths_of_interest:\n",
    "    lengths[length_key] = [] # priprava struktury pro graf\n",
    "\n",
    "for species_key in species.keys():\n",
    "    species_data = species[species_key]\n",
    "    for length_key in lengths_of_interest:\n",
    "        lengths[length_key].append(species_data[length_key]) # figl z pripravy dat, jen s rozsirenim o na druhy a jedntlive delky...\n",
    "\n",
    "species_range = range(len(species)) # metoda range definuje rozsah, tj. range(5) vytvori pole [0,1,2,3,4]. Ja do ni vkladam velikost slovniku s druhy.\n",
    "\n",
    "plt.xticks(species_range, list(species.keys())) # menime popisky z cisel na slova... \n",
    "\n",
    "for length_key in lengths_of_interest:\n",
    "    plt.scatter(species_range, lengths[length_key], label = length_key) # pridavame jednotlive podgrafy... \n",
    "\n",
    "plt.legend() # pridame legendu\n",
    "plt.grid() # a mrizku"
   ]
  },
  {
   "cell_type": "markdown",
   "metadata": {},
   "source": [
    "Graf vypadá poněkud divně, že? Vlastně ne... Když se podíváte na data, tak zjistíme, že je vlastně správně ;) "
   ]
  },
  {
   "cell_type": "code",
   "execution_count": null,
   "metadata": {},
   "outputs": [],
   "source": []
  }
 ],
 "metadata": {
  "kernelspec": {
   "display_name": "Python 3",
   "language": "python",
   "name": "python3"
  },
  "language_info": {
   "codemirror_mode": {
    "name": "ipython",
    "version": 3
   },
   "file_extension": ".py",
   "mimetype": "text/x-python",
   "name": "python",
   "nbconvert_exporter": "python",
   "pygments_lexer": "ipython3",
   "version": "3.7.3"
  }
 },
 "nbformat": 4,
 "nbformat_minor": 4
}
