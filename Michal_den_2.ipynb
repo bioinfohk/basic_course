{
  "nbformat": 4,
  "nbformat_minor": 0,
  "metadata": {
    "colab": {
      "name": "Michal_den_2.ipynb",
      "provenance": [],
      "collapsed_sections": []
    },
    "kernelspec": {
      "name": "python3",
      "display_name": "Python 3"
    }
  },
  "cells": [
    {
      "cell_type": "markdown",
      "metadata": {
        "id": "7zZQ7fZQZRCA",
        "colab_type": "text"
      },
      "source": [
        "Stažení souboru"
      ]
    },
    {
      "cell_type": "code",
      "metadata": {
        "id": "UnDG-tx9RD43",
        "colab_type": "code",
        "colab": {
          "base_uri": "https://localhost:8080/",
          "height": 204
        },
        "outputId": "365d866e-13bd-4523-bf0c-5fae995cbef0"
      },
      "source": [
        "!wget https://mlj.solutions/biopy.xlsx"
      ],
      "execution_count": 1,
      "outputs": [
        {
          "output_type": "stream",
          "text": [
            "--2019-11-20 10:28:09--  https://mlj.solutions/biopy.xlsx\n",
            "Resolving mlj.solutions (mlj.solutions)... 35.195.188.93\n",
            "Connecting to mlj.solutions (mlj.solutions)|35.195.188.93|:443... connected.\n",
            "HTTP request sent, awaiting response... 200 OK\n",
            "Length: 81763 (80K) [application/vnd.openxmlformats-officedocument.spreadsheetml.sheet]\n",
            "Saving to: ‘biopy.xlsx’\n",
            "\n",
            "\rbiopy.xlsx            0%[                    ]       0  --.-KB/s               \rbiopy.xlsx          100%[===================>]  79.85K  --.-KB/s    in 0.007s  \n",
            "\n",
            "2019-11-20 10:28:10 (11.1 MB/s) - ‘biopy.xlsx’ saved [81763/81763]\n",
            "\n"
          ],
          "name": "stdout"
        }
      ]
    },
    {
      "cell_type": "code",
      "metadata": {
        "id": "n1-Z9WcRRkWK",
        "colab_type": "code",
        "colab": {}
      },
      "source": [
        "import pandas as pd"
      ],
      "execution_count": 0,
      "outputs": []
    },
    {
      "cell_type": "markdown",
      "metadata": {
        "id": "9KxE-0_UZnV6",
        "colab_type": "text"
      },
      "source": [
        "### Histogram"
      ]
    },
    {
      "cell_type": "code",
      "metadata": {
        "id": "SXK1kKReSHUt",
        "colab_type": "code",
        "colab": {
          "base_uri": "https://localhost:8080/",
          "height": 419
        },
        "outputId": "4debc2ea-2a70-45b9-982e-79a7ba5ec100"
      },
      "source": [
        "data = pd.read_excel('biopy.xlsx', sheet_name='c-value all3')\n",
        "data"
      ],
      "execution_count": 3,
      "outputs": [
        {
          "output_type": "execute_result",
          "data": {
            "text/html": [
              "<div>\n",
              "<style scoped>\n",
              "    .dataframe tbody tr th:only-of-type {\n",
              "        vertical-align: middle;\n",
              "    }\n",
              "\n",
              "    .dataframe tbody tr th {\n",
              "        vertical-align: top;\n",
              "    }\n",
              "\n",
              "    .dataframe thead th {\n",
              "        text-align: right;\n",
              "    }\n",
              "</style>\n",
              "<table border=\"1\" class=\"dataframe\">\n",
              "  <thead>\n",
              "    <tr style=\"text-align: right;\">\n",
              "      <th></th>\n",
              "      <th>Birds</th>\n",
              "      <th>C-value/birds</th>\n",
              "      <th>Bats</th>\n",
              "      <th>C-value/bats</th>\n",
              "      <th>Mammals without bats</th>\n",
              "      <th>C-value/mammals</th>\n",
              "    </tr>\n",
              "  </thead>\n",
              "  <tbody>\n",
              "    <tr>\n",
              "      <th>0</th>\n",
              "      <td>Sharp-shinned hawk</td>\n",
              "      <td>1.55</td>\n",
              "      <td>Saccopteryx bilineata</td>\n",
              "      <td>3.16</td>\n",
              "      <td>Chrysochloris asiatica</td>\n",
              "      <td>5.21</td>\n",
              "    </tr>\n",
              "    <tr>\n",
              "      <th>1</th>\n",
              "      <td>Cape teal</td>\n",
              "      <td>1.41</td>\n",
              "      <td>Taphozous sp.</td>\n",
              "      <td>2.18</td>\n",
              "      <td>Addax nasomaculatus</td>\n",
              "      <td>3.98</td>\n",
              "    </tr>\n",
              "    <tr>\n",
              "      <th>2</th>\n",
              "      <td>Chestnut-breasted teal</td>\n",
              "      <td>1.36</td>\n",
              "      <td>Hipposideros caffer</td>\n",
              "      <td>2.44</td>\n",
              "      <td>Aepyceros melampus</td>\n",
              "      <td>4.69</td>\n",
              "    </tr>\n",
              "    <tr>\n",
              "      <th>3</th>\n",
              "      <td>Mallard</td>\n",
              "      <td>1.41</td>\n",
              "      <td>Hipposideros commersoni</td>\n",
              "      <td>2.48</td>\n",
              "      <td>Bison bison</td>\n",
              "      <td>4.90</td>\n",
              "    </tr>\n",
              "    <tr>\n",
              "      <th>4</th>\n",
              "      <td>Domesticated goose</td>\n",
              "      <td>1.44</td>\n",
              "      <td>Hipposideros cyclops</td>\n",
              "      <td>2.72</td>\n",
              "      <td>Bos indicus</td>\n",
              "      <td>3.31</td>\n",
              "    </tr>\n",
              "    <tr>\n",
              "      <th>...</th>\n",
              "      <td>...</td>\n",
              "      <td>...</td>\n",
              "      <td>...</td>\n",
              "      <td>...</td>\n",
              "      <td>...</td>\n",
              "      <td>...</td>\n",
              "    </tr>\n",
              "    <tr>\n",
              "      <th>763</th>\n",
              "      <td>Common barn owl</td>\n",
              "      <td>1.63</td>\n",
              "      <td>NaN</td>\n",
              "      <td>NaN</td>\n",
              "      <td>NaN</td>\n",
              "      <td>NaN</td>\n",
              "    </tr>\n",
              "    <tr>\n",
              "      <th>764</th>\n",
              "      <td>Ostrich</td>\n",
              "      <td>2.16</td>\n",
              "      <td>NaN</td>\n",
              "      <td>NaN</td>\n",
              "      <td>NaN</td>\n",
              "      <td>NaN</td>\n",
              "    </tr>\n",
              "    <tr>\n",
              "      <th>765</th>\n",
              "      <td>Brown tinamou</td>\n",
              "      <td>1.35</td>\n",
              "      <td>NaN</td>\n",
              "      <td>NaN</td>\n",
              "      <td>NaN</td>\n",
              "      <td>NaN</td>\n",
              "    </tr>\n",
              "    <tr>\n",
              "      <th>766</th>\n",
              "      <td>Elegant crested tinamou</td>\n",
              "      <td>1.24</td>\n",
              "      <td>NaN</td>\n",
              "      <td>NaN</td>\n",
              "      <td>NaN</td>\n",
              "      <td>NaN</td>\n",
              "    </tr>\n",
              "    <tr>\n",
              "      <th>767</th>\n",
              "      <td>Collared trogon</td>\n",
              "      <td>1.41</td>\n",
              "      <td>NaN</td>\n",
              "      <td>NaN</td>\n",
              "      <td>NaN</td>\n",
              "      <td>NaN</td>\n",
              "    </tr>\n",
              "  </tbody>\n",
              "</table>\n",
              "<p>768 rows × 6 columns</p>\n",
              "</div>"
            ],
            "text/plain": [
              "                       Birds  ...  C-value/mammals\n",
              "0         Sharp-shinned hawk  ...             5.21\n",
              "1                  Cape teal  ...             3.98\n",
              "2     Chestnut-breasted teal  ...             4.69\n",
              "3                    Mallard  ...             4.90\n",
              "4         Domesticated goose  ...             3.31\n",
              "..                       ...  ...              ...\n",
              "763          Common barn owl  ...              NaN\n",
              "764                  Ostrich  ...              NaN\n",
              "765            Brown tinamou  ...              NaN\n",
              "766  Elegant crested tinamou  ...              NaN\n",
              "767          Collared trogon  ...              NaN\n",
              "\n",
              "[768 rows x 6 columns]"
            ]
          },
          "metadata": {
            "tags": []
          },
          "execution_count": 3
        }
      ]
    },
    {
      "cell_type": "markdown",
      "metadata": {
        "id": "m5QGKcP3ZHjW",
        "colab_type": "text"
      },
      "source": [
        "Z dat si vytvoříme DataFrame, který umožňuje jenoduché vykrelení dat"
      ]
    },
    {
      "cell_type": "code",
      "metadata": {
        "id": "caIugfjPS1_E",
        "colab_type": "code",
        "colab": {
          "base_uri": "https://localhost:8080/",
          "height": 419
        },
        "outputId": "dc17b1b7-1bea-4466-b59e-5ff3d4e0befd"
      },
      "source": [
        "from pandas import DataFrame\n",
        "\n",
        "frame = DataFrame(data)\n",
        "frame"
      ],
      "execution_count": 4,
      "outputs": [
        {
          "output_type": "execute_result",
          "data": {
            "text/html": [
              "<div>\n",
              "<style scoped>\n",
              "    .dataframe tbody tr th:only-of-type {\n",
              "        vertical-align: middle;\n",
              "    }\n",
              "\n",
              "    .dataframe tbody tr th {\n",
              "        vertical-align: top;\n",
              "    }\n",
              "\n",
              "    .dataframe thead th {\n",
              "        text-align: right;\n",
              "    }\n",
              "</style>\n",
              "<table border=\"1\" class=\"dataframe\">\n",
              "  <thead>\n",
              "    <tr style=\"text-align: right;\">\n",
              "      <th></th>\n",
              "      <th>Birds</th>\n",
              "      <th>C-value/birds</th>\n",
              "      <th>Bats</th>\n",
              "      <th>C-value/bats</th>\n",
              "      <th>Mammals without bats</th>\n",
              "      <th>C-value/mammals</th>\n",
              "    </tr>\n",
              "  </thead>\n",
              "  <tbody>\n",
              "    <tr>\n",
              "      <th>0</th>\n",
              "      <td>Sharp-shinned hawk</td>\n",
              "      <td>1.55</td>\n",
              "      <td>Saccopteryx bilineata</td>\n",
              "      <td>3.16</td>\n",
              "      <td>Chrysochloris asiatica</td>\n",
              "      <td>5.21</td>\n",
              "    </tr>\n",
              "    <tr>\n",
              "      <th>1</th>\n",
              "      <td>Cape teal</td>\n",
              "      <td>1.41</td>\n",
              "      <td>Taphozous sp.</td>\n",
              "      <td>2.18</td>\n",
              "      <td>Addax nasomaculatus</td>\n",
              "      <td>3.98</td>\n",
              "    </tr>\n",
              "    <tr>\n",
              "      <th>2</th>\n",
              "      <td>Chestnut-breasted teal</td>\n",
              "      <td>1.36</td>\n",
              "      <td>Hipposideros caffer</td>\n",
              "      <td>2.44</td>\n",
              "      <td>Aepyceros melampus</td>\n",
              "      <td>4.69</td>\n",
              "    </tr>\n",
              "    <tr>\n",
              "      <th>3</th>\n",
              "      <td>Mallard</td>\n",
              "      <td>1.41</td>\n",
              "      <td>Hipposideros commersoni</td>\n",
              "      <td>2.48</td>\n",
              "      <td>Bison bison</td>\n",
              "      <td>4.90</td>\n",
              "    </tr>\n",
              "    <tr>\n",
              "      <th>4</th>\n",
              "      <td>Domesticated goose</td>\n",
              "      <td>1.44</td>\n",
              "      <td>Hipposideros cyclops</td>\n",
              "      <td>2.72</td>\n",
              "      <td>Bos indicus</td>\n",
              "      <td>3.31</td>\n",
              "    </tr>\n",
              "    <tr>\n",
              "      <th>...</th>\n",
              "      <td>...</td>\n",
              "      <td>...</td>\n",
              "      <td>...</td>\n",
              "      <td>...</td>\n",
              "      <td>...</td>\n",
              "      <td>...</td>\n",
              "    </tr>\n",
              "    <tr>\n",
              "      <th>763</th>\n",
              "      <td>Common barn owl</td>\n",
              "      <td>1.63</td>\n",
              "      <td>NaN</td>\n",
              "      <td>NaN</td>\n",
              "      <td>NaN</td>\n",
              "      <td>NaN</td>\n",
              "    </tr>\n",
              "    <tr>\n",
              "      <th>764</th>\n",
              "      <td>Ostrich</td>\n",
              "      <td>2.16</td>\n",
              "      <td>NaN</td>\n",
              "      <td>NaN</td>\n",
              "      <td>NaN</td>\n",
              "      <td>NaN</td>\n",
              "    </tr>\n",
              "    <tr>\n",
              "      <th>765</th>\n",
              "      <td>Brown tinamou</td>\n",
              "      <td>1.35</td>\n",
              "      <td>NaN</td>\n",
              "      <td>NaN</td>\n",
              "      <td>NaN</td>\n",
              "      <td>NaN</td>\n",
              "    </tr>\n",
              "    <tr>\n",
              "      <th>766</th>\n",
              "      <td>Elegant crested tinamou</td>\n",
              "      <td>1.24</td>\n",
              "      <td>NaN</td>\n",
              "      <td>NaN</td>\n",
              "      <td>NaN</td>\n",
              "      <td>NaN</td>\n",
              "    </tr>\n",
              "    <tr>\n",
              "      <th>767</th>\n",
              "      <td>Collared trogon</td>\n",
              "      <td>1.41</td>\n",
              "      <td>NaN</td>\n",
              "      <td>NaN</td>\n",
              "      <td>NaN</td>\n",
              "      <td>NaN</td>\n",
              "    </tr>\n",
              "  </tbody>\n",
              "</table>\n",
              "<p>768 rows × 6 columns</p>\n",
              "</div>"
            ],
            "text/plain": [
              "                       Birds  ...  C-value/mammals\n",
              "0         Sharp-shinned hawk  ...             5.21\n",
              "1                  Cape teal  ...             3.98\n",
              "2     Chestnut-breasted teal  ...             4.69\n",
              "3                    Mallard  ...             4.90\n",
              "4         Domesticated goose  ...             3.31\n",
              "..                       ...  ...              ...\n",
              "763          Common barn owl  ...              NaN\n",
              "764                  Ostrich  ...              NaN\n",
              "765            Brown tinamou  ...              NaN\n",
              "766  Elegant crested tinamou  ...              NaN\n",
              "767          Collared trogon  ...              NaN\n",
              "\n",
              "[768 rows x 6 columns]"
            ]
          },
          "metadata": {
            "tags": []
          },
          "execution_count": 4
        }
      ]
    },
    {
      "cell_type": "markdown",
      "metadata": {
        "id": "6QHjEXz1ZCnq",
        "colab_type": "text"
      },
      "source": [
        "vykreslení histogramu z dataframu"
      ]
    },
    {
      "cell_type": "code",
      "metadata": {
        "id": "2byQaaH5TK1q",
        "colab_type": "code",
        "colab": {
          "base_uri": "https://localhost:8080/",
          "height": 392
        },
        "outputId": "275b0cda-1c51-4adf-b877-e6c1d3b1073d"
      },
      "source": [
        "pd.cut(frame['C-value/birds'], 20).value_counts(sort=False).plot(kind='bar', figsize=(10,5))"
      ],
      "execution_count": 5,
      "outputs": [
        {
          "output_type": "execute_result",
          "data": {
            "text/plain": [
              "<matplotlib.axes._subplots.AxesSubplot at 0x7f22bf307438>"
            ]
          },
          "metadata": {
            "tags": []
          },
          "execution_count": 5
        },
        {
          "output_type": "display_data",
          "data": {
            "image/png": "[encoded data removed]",
            "text/plain": [
              "<Figure size 720x360 with 1 Axes>"
            ]
          },
          "metadata": {
            "tags": []
          }
        }
      ]
    },
    {
      "cell_type": "code",
      "metadata": {
        "id": "J_s4xX1gUW8_",
        "colab_type": "code",
        "colab": {
          "base_uri": "https://localhost:8080/",
          "height": 398
        },
        "outputId": "4d9ba2db-8f3e-424b-d77c-78f0e8b33ff2"
      },
      "source": [
        "pd.cut(frame['C-value/bats'], 20).value_counts(sort=False).plot(kind='bar', figsize=(10,5))"
      ],
      "execution_count": 6,
      "outputs": [
        {
          "output_type": "execute_result",
          "data": {
            "text/plain": [
              "<matplotlib.axes._subplots.AxesSubplot at 0x7f22bed6f2e8>"
            ]
          },
          "metadata": {
            "tags": []
          },
          "execution_count": 6
        },
        {
          "output_type": "display_data",
          "data": {
            "image/png": "[encoded data removed]",
            "text/plain": [
              "<Figure size 720x360 with 1 Axes>"
            ]
          },
          "metadata": {
            "tags": []
          }
        }
      ]
    },
    {
      "cell_type": "code",
      "metadata": {
        "id": "dFjkNjU2Wfe-",
        "colab_type": "code",
        "colab": {
          "base_uri": "https://localhost:8080/",
          "height": 398
        },
        "outputId": "c8010c88-bdf9-4952-ce6f-acbf3d59e1ff"
      },
      "source": [
        "pd.cut(frame['C-value/mammals'], 20).value_counts(sort=False).plot(kind='bar', figsize=(10,5))"
      ],
      "execution_count": 7,
      "outputs": [
        {
          "output_type": "execute_result",
          "data": {
            "text/plain": [
              "<matplotlib.axes._subplots.AxesSubplot at 0x7f22becb18d0>"
            ]
          },
          "metadata": {
            "tags": []
          },
          "execution_count": 7
        },
        {
          "output_type": "display_data",
          "data": {
            "image/png": "[encoded data removed]",
            "text/plain": [
              "<Figure size 720x360 with 1 Axes>"
            ]
          },
          "metadata": {
            "tags": []
          }
        }
      ]
    },
    {
      "cell_type": "markdown",
      "metadata": {
        "id": "7NJRUzi-ZfVd",
        "colab_type": "text"
      },
      "source": [
        "### PLOTBOX"
      ]
    },
    {
      "cell_type": "markdown",
      "metadata": {
        "id": "tkKRE3kSY6oR",
        "colab_type": "text"
      },
      "source": [
        "načtení nového listu \"GC% all3\" z excelu"
      ]
    },
    {
      "cell_type": "code",
      "metadata": {
        "id": "DelUoVf-Wr6B",
        "colab_type": "code",
        "colab": {}
      },
      "source": [
        "gc_sheet = pd.read_excel('biopy.xlsx', sheet_name='GC% all3')"
      ],
      "execution_count": 0,
      "outputs": []
    },
    {
      "cell_type": "code",
      "metadata": {
        "id": "bbTqou5aXBSB",
        "colab_type": "code",
        "colab": {
          "base_uri": "https://localhost:8080/",
          "height": 419
        },
        "outputId": "726ecd8f-003e-43a1-b60b-42c6eccbcf54"
      },
      "source": [
        "gc_sheet"
      ],
      "execution_count": 9,
      "outputs": [
        {
          "output_type": "execute_result",
          "data": {
            "text/html": [
              "<div>\n",
              "<style scoped>\n",
              "    .dataframe tbody tr th:only-of-type {\n",
              "        vertical-align: middle;\n",
              "    }\n",
              "\n",
              "    .dataframe tbody tr th {\n",
              "        vertical-align: top;\n",
              "    }\n",
              "\n",
              "    .dataframe thead th {\n",
              "        text-align: right;\n",
              "    }\n",
              "</style>\n",
              "<table border=\"1\" class=\"dataframe\">\n",
              "  <thead>\n",
              "    <tr style=\"text-align: right;\">\n",
              "      <th></th>\n",
              "      <th>birds</th>\n",
              "      <th>GC%/bird</th>\n",
              "      <th>bats</th>\n",
              "      <th>GC%/bats</th>\n",
              "      <th>Unnamed: 4</th>\n",
              "      <th>mammals withut bats</th>\n",
              "      <th>GC%/mammals</th>\n",
              "      <th>Unnamed: 7</th>\n",
              "      <th>Unnamed: 8</th>\n",
              "      <th>birds.1</th>\n",
              "      <th>yin</th>\n",
              "      <th>yang</th>\n",
              "      <th>mammals</th>\n",
              "    </tr>\n",
              "  </thead>\n",
              "  <tbody>\n",
              "    <tr>\n",
              "      <th>0</th>\n",
              "      <td>Phylloscopus trochiloides</td>\n",
              "      <td>41.5</td>\n",
              "      <td>Rhinolophus ferrumequinum</td>\n",
              "      <td>40.6</td>\n",
              "      <td>NaN</td>\n",
              "      <td>Orycteropus afer</td>\n",
              "      <td>42.1</td>\n",
              "      <td>NaN</td>\n",
              "      <td>NaN</td>\n",
              "      <td>41.5</td>\n",
              "      <td>40.6</td>\n",
              "      <td>43.80</td>\n",
              "      <td>42.1</td>\n",
              "    </tr>\n",
              "    <tr>\n",
              "      <th>1</th>\n",
              "      <td>Aquila chrysaetos</td>\n",
              "      <td>42.3</td>\n",
              "      <td>Murina aurata</td>\n",
              "      <td>43.8</td>\n",
              "      <td>NaN</td>\n",
              "      <td>Vicugna pacos</td>\n",
              "      <td>41.6</td>\n",
              "      <td>NaN</td>\n",
              "      <td>NaN</td>\n",
              "      <td>42.3</td>\n",
              "      <td>41.3</td>\n",
              "      <td>42.39</td>\n",
              "      <td>41.6</td>\n",
              "    </tr>\n",
              "    <tr>\n",
              "      <th>2</th>\n",
              "      <td>Struthio camelus</td>\n",
              "      <td>41.3</td>\n",
              "      <td>Craseonycteris thonglongyai</td>\n",
              "      <td>41.0</td>\n",
              "      <td>NaN</td>\n",
              "      <td>Equus asinus</td>\n",
              "      <td>41.7</td>\n",
              "      <td>NaN</td>\n",
              "      <td>NaN</td>\n",
              "      <td>41.3</td>\n",
              "      <td>39.6</td>\n",
              "      <td>42.40</td>\n",
              "      <td>41.7</td>\n",
              "    </tr>\n",
              "    <tr>\n",
              "      <th>3</th>\n",
              "      <td>Hirundo rustica</td>\n",
              "      <td>41.6</td>\n",
              "      <td>Phylostomus discolor</td>\n",
              "      <td>42.4</td>\n",
              "      <td>NaN</td>\n",
              "      <td>Taxidea taxus</td>\n",
              "      <td>41.2</td>\n",
              "      <td>NaN</td>\n",
              "      <td>NaN</td>\n",
              "      <td>41.6</td>\n",
              "      <td>40.3</td>\n",
              "      <td>42.90</td>\n",
              "      <td>41.2</td>\n",
              "    </tr>\n",
              "    <tr>\n",
              "      <th>4</th>\n",
              "      <td>Limosa lapponica</td>\n",
              "      <td>42.3</td>\n",
              "      <td>Hipposideros galeritus</td>\n",
              "      <td>41.3</td>\n",
              "      <td>NaN</td>\n",
              "      <td>Aplodontia rufa</td>\n",
              "      <td>40.6</td>\n",
              "      <td>NaN</td>\n",
              "      <td>NaN</td>\n",
              "      <td>42.3</td>\n",
              "      <td>39.4</td>\n",
              "      <td>41.70</td>\n",
              "      <td>40.6</td>\n",
              "    </tr>\n",
              "    <tr>\n",
              "      <th>...</th>\n",
              "      <td>...</td>\n",
              "      <td>...</td>\n",
              "      <td>...</td>\n",
              "      <td>...</td>\n",
              "      <td>...</td>\n",
              "      <td>...</td>\n",
              "      <td>...</td>\n",
              "      <td>...</td>\n",
              "      <td>...</td>\n",
              "      <td>...</td>\n",
              "      <td>...</td>\n",
              "      <td>...</td>\n",
              "      <td>...</td>\n",
              "    </tr>\n",
              "    <tr>\n",
              "      <th>145</th>\n",
              "      <td>Taeniopygia guttata</td>\n",
              "      <td>42.0</td>\n",
              "      <td>NaN</td>\n",
              "      <td>NaN</td>\n",
              "      <td>NaN</td>\n",
              "      <td>NaN</td>\n",
              "      <td>NaN</td>\n",
              "      <td>NaN</td>\n",
              "      <td>NaN</td>\n",
              "      <td>42.0</td>\n",
              "      <td>NaN</td>\n",
              "      <td>NaN</td>\n",
              "      <td>NaN</td>\n",
              "    </tr>\n",
              "    <tr>\n",
              "      <th>146</th>\n",
              "      <td>Rhea americana</td>\n",
              "      <td>40.2</td>\n",
              "      <td>NaN</td>\n",
              "      <td>NaN</td>\n",
              "      <td>NaN</td>\n",
              "      <td>NaN</td>\n",
              "      <td>NaN</td>\n",
              "      <td>NaN</td>\n",
              "      <td>NaN</td>\n",
              "      <td>40.2</td>\n",
              "      <td>NaN</td>\n",
              "      <td>NaN</td>\n",
              "      <td>NaN</td>\n",
              "    </tr>\n",
              "    <tr>\n",
              "      <th>147</th>\n",
              "      <td>Ciconia boyciana</td>\n",
              "      <td>42.1</td>\n",
              "      <td>NaN</td>\n",
              "      <td>NaN</td>\n",
              "      <td>NaN</td>\n",
              "      <td>NaN</td>\n",
              "      <td>NaN</td>\n",
              "      <td>NaN</td>\n",
              "      <td>NaN</td>\n",
              "      <td>42.1</td>\n",
              "      <td>NaN</td>\n",
              "      <td>NaN</td>\n",
              "      <td>NaN</td>\n",
              "    </tr>\n",
              "    <tr>\n",
              "      <th>148</th>\n",
              "      <td>Coturnix japonica</td>\n",
              "      <td>41.3</td>\n",
              "      <td>NaN</td>\n",
              "      <td>NaN</td>\n",
              "      <td>NaN</td>\n",
              "      <td>NaN</td>\n",
              "      <td>NaN</td>\n",
              "      <td>NaN</td>\n",
              "      <td>NaN</td>\n",
              "      <td>41.3</td>\n",
              "      <td>NaN</td>\n",
              "      <td>NaN</td>\n",
              "      <td>NaN</td>\n",
              "    </tr>\n",
              "    <tr>\n",
              "      <th>149</th>\n",
              "      <td>Meleagris gallopavo</td>\n",
              "      <td>41.7</td>\n",
              "      <td>NaN</td>\n",
              "      <td>NaN</td>\n",
              "      <td>NaN</td>\n",
              "      <td>NaN</td>\n",
              "      <td>NaN</td>\n",
              "      <td>NaN</td>\n",
              "      <td>NaN</td>\n",
              "      <td>41.7</td>\n",
              "      <td>NaN</td>\n",
              "      <td>NaN</td>\n",
              "      <td>NaN</td>\n",
              "    </tr>\n",
              "  </tbody>\n",
              "</table>\n",
              "<p>150 rows × 13 columns</p>\n",
              "</div>"
            ],
            "text/plain": [
              "                         birds  GC%/bird  ...   yang  mammals\n",
              "0    Phylloscopus trochiloides      41.5  ...  43.80     42.1\n",
              "1            Aquila chrysaetos      42.3  ...  42.39     41.6\n",
              "2             Struthio camelus      41.3  ...  42.40     41.7\n",
              "3              Hirundo rustica      41.6  ...  42.90     41.2\n",
              "4             Limosa lapponica      42.3  ...  41.70     40.6\n",
              "..                         ...       ...  ...    ...      ...\n",
              "145        Taeniopygia guttata      42.0  ...    NaN      NaN\n",
              "146             Rhea americana      40.2  ...    NaN      NaN\n",
              "147           Ciconia boyciana      42.1  ...    NaN      NaN\n",
              "148          Coturnix japonica      41.3  ...    NaN      NaN\n",
              "149        Meleagris gallopavo      41.7  ...    NaN      NaN\n",
              "\n",
              "[150 rows x 13 columns]"
            ]
          },
          "metadata": {
            "tags": []
          },
          "execution_count": 9
        }
      ]
    },
    {
      "cell_type": "markdown",
      "metadata": {
        "id": "tVPrQHfcY4Uf",
        "colab_type": "text"
      },
      "source": [
        "vykreslení grafu a uložení do souboru"
      ]
    },
    {
      "cell_type": "code",
      "metadata": {
        "id": "w15kwA31XIJ8",
        "colab_type": "code",
        "colab": {
          "base_uri": "https://localhost:8080/",
          "height": 320
        },
        "outputId": "8d3da909-6af9-4fd2-8647-4e77afcdba27"
      },
      "source": [
        "import matplotlib.pyplot as plt\n",
        "\n",
        "DataFrame(gc_sheet).boxplot(column=['birds.1', 'yin',\t'yang',\t'mammals'], patch_artist=True, figsize=(10, 5))\n",
        "plt.savefig('box.png')"
      ],
      "execution_count": 10,
      "outputs": [
        {
          "output_type": "display_data",
          "data": {
            "image/png": "[encoded data removed]",
            "text/plain": [
              "<Figure size 720x360 with 1 Axes>"
            ]
          },
          "metadata": {
            "tags": []
          }
        }
      ]
    }
  ]
}